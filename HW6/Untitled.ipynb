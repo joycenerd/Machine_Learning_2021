{
 "cells": [
  {
   "cell_type": "code",
   "execution_count": 4,
   "id": "74678ac1-c7ca-4e44-8c63-99f4366b212f",
   "metadata": {},
   "outputs": [
    {
     "name": "stdout",
     "output_type": "stream",
     "text": [
      "(2, 100, 100)\n",
      "(100, 100)\n",
      "[[ 0  0]\n",
      " [ 0  1]\n",
      " [ 0  2]\n",
      " ...\n",
      " [99 97]\n",
      " [99 98]\n",
      " [99 99]]\n",
      "(10000, 2)\n"
     ]
    }
   ],
   "source": [
    "import numpy as np\n",
    "\n",
    "row=100\n",
    "col=100\n",
    "grid = np.indices((row, col))\n",
    "print(grid.shape)\n",
    "\n",
    "row_indices = grid[0]\n",
    "col_indices = grid[1]\n",
    "print(row_indices.shape)\n",
    "indices = np.hstack((row_indices.reshape(-1, 1), col_indices.reshape(-1, 1)))\n",
    "print(indices)\n",
    "print(indices.shape)"
   ]
  },
  {
   "cell_type": "code",
   "execution_count": 5,
   "id": "9f15c5cd-6f94-429c-ac29-430f2f61b248",
   "metadata": {},
   "outputs": [
    {
     "data": {
      "text/plain": [
       "array([6, 6, 6])"
      ]
     },
     "execution_count": 5,
     "metadata": {},
     "output_type": "execute_result"
    }
   ],
   "source": [
    "a=np.array([[1,1,1],[2,2,2],[3,3,3]])\n",
    "b=np.sum(a,axis=0)\n",
    "b"
   ]
  },
  {
   "cell_type": "code",
   "execution_count": 7,
   "id": "b7b42360-3b6b-48f7-935d-ec37fba2518c",
   "metadata": {},
   "outputs": [
    {
     "data": {
      "text/plain": [
       "3.0"
      ]
     },
     "execution_count": 7,
     "metadata": {},
     "output_type": "execute_result"
    }
   ],
   "source": [
    "x=np.array([1,1,1])\n",
    "y=np.array([2,2,2])\n",
    "np.linalg.norm(x-y,ord=1)"
   ]
  },
  {
   "cell_type": "code",
   "execution_count": null,
   "id": "87eb9af7-edb3-4f16-a90b-2b548e730ef9",
   "metadata": {},
   "outputs": [],
   "source": []
  },
  {
   "cell_type": "code",
   "execution_count": null,
   "id": "9326c466-1c91-410f-9ee9-72c3beed3578",
   "metadata": {},
   "outputs": [],
   "source": []
  }
 ],
 "metadata": {
  "kernelspec": {
   "display_name": "Python 3",
   "language": "python",
   "name": "python3"
  },
  "language_info": {
   "codemirror_mode": {
    "name": "ipython",
    "version": 3
   },
   "file_extension": ".py",
   "mimetype": "text/x-python",
   "name": "python",
   "nbconvert_exporter": "python",
   "pygments_lexer": "ipython3",
   "version": "3.9.4"
  }
 },
 "nbformat": 4,
 "nbformat_minor": 5
}
